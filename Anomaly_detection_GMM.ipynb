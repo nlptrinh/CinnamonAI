{
  "nbformat": 4,
  "nbformat_minor": 0,
  "metadata": {
    "colab": {
      "name": "GMM.ipynb",
      "provenance": [],
      "authorship_tag": "ABX9TyPLYJVIzkQI0etBxg6OvHSd",
      "include_colab_link": true
    },
    "kernelspec": {
      "name": "python3",
      "display_name": "Python 3"
    },
    "accelerator": "GPU"
  },
  "cells": [
    {
      "cell_type": "markdown",
      "metadata": {
        "id": "view-in-github",
        "colab_type": "text"
      },
      "source": [
        "<a href=\"https://colab.research.google.com/github/nlptrinh/CinnamonAI/blob/master/Anomaly_detection_GMM.ipynb\" target=\"_parent\"><img src=\"https://colab.research.google.com/assets/colab-badge.svg\" alt=\"Open In Colab\"/></a>"
      ]
    },
    {
      "cell_type": "code",
      "metadata": {
        "id": "gutif8l-OP-a",
        "colab_type": "code",
        "outputId": "651e9185-49e6-4df0-e1d0-87d7c16c4be7",
        "colab": {
          "base_uri": "https://localhost:8080/",
          "height": 54
        }
      },
      "source": [
        "from google.colab import drive\n",
        "drive.mount('/content/drive')"
      ],
      "execution_count": 52,
      "outputs": [
        {
          "output_type": "stream",
          "text": [
            "Drive already mounted at /content/drive; to attempt to forcibly remount, call drive.mount(\"/content/drive\", force_remount=True).\n"
          ],
          "name": "stdout"
        }
      ]
    },
    {
      "cell_type": "code",
      "metadata": {
        "id": "1Qet1sEpC1J-",
        "colab_type": "code",
        "colab": {}
      },
      "source": [
        "import os\n",
        "os.chdir(\"/content/drive/My Drive/CinnamonAI\")"
      ],
      "execution_count": 0,
      "outputs": []
    },
    {
      "cell_type": "code",
      "metadata": {
        "id": "5Zhq3WIqOKwk",
        "colab_type": "code",
        "outputId": "6398eb74-e625-4789-e59f-ea00cab63b42",
        "colab": {
          "base_uri": "https://localhost:8080/",
          "height": 34
        }
      },
      "source": [
        "!pwd"
      ],
      "execution_count": 54,
      "outputs": [
        {
          "output_type": "stream",
          "text": [
            "/content/drive/My Drive/CinnamonAI\n"
          ],
          "name": "stdout"
        }
      ]
    },
    {
      "cell_type": "code",
      "metadata": {
        "id": "qhZLYPx0cwVD",
        "colab_type": "code",
        "colab": {}
      },
      "source": [
        "%matplotlib inline\n",
        "import matplotlib as mpl\n",
        "import matplotlib.pyplot as plt\n",
        "from math import pi,e"
      ],
      "execution_count": 0,
      "outputs": []
    },
    {
      "cell_type": "code",
      "metadata": {
        "id": "WSp38zLjcwuJ",
        "colab_type": "code",
        "colab": {}
      },
      "source": [
        "from scipy.io import loadmat\n",
        "from scipy.io.arff import loadarff\n",
        "import numpy as np\n",
        "import pandas as pd\n",
        "from collections import OrderedDict"
      ],
      "execution_count": 0,
      "outputs": []
    },
    {
      "cell_type": "code",
      "metadata": {
        "id": "1K8Dcl_Scw3f",
        "colab_type": "code",
        "colab": {}
      },
      "source": [
        "from sklearn.preprocessing import StandardScaler, MinMaxScaler\n",
        "from sklearn.decomposition import PCA\n",
        "from sklearn.model_selection import StratifiedKFold, train_test_split, GridSearchCV\n",
        "from sklearn.metrics import precision_recall_curve, roc_curve, average_precision_score, auc, make_scorer\n",
        "from sklearn.metrics import f1_score,accuracy_score\n",
        "from sklearn.pipeline import make_pipeline\n",
        "from sklearn.externals.joblib import Parallel, delayed"
      ],
      "execution_count": 0,
      "outputs": []
    },
    {
      "cell_type": "code",
      "metadata": {
        "id": "wx776qilcw89",
        "colab_type": "code",
        "colab": {}
      },
      "source": [
        "import seaborn as sns\n",
        "sns.set(font_scale=1.5)"
      ],
      "execution_count": 0,
      "outputs": []
    },
    {
      "cell_type": "markdown",
      "metadata": {
        "id": "M_7YHX-hi-zN",
        "colab_type": "text"
      },
      "source": [
        "# **Using PCA for detection**"
      ]
    },
    {
      "cell_type": "markdown",
      "metadata": {
        "id": "Vb_eohwFju0D",
        "colab_type": "text"
      },
      "source": [
        "**Load data and inspect**"
      ]
    },
    {
      "cell_type": "code",
      "metadata": {
        "id": "ZkQy5cx0cxDN",
        "colab_type": "code",
        "colab": {}
      },
      "source": [
        "data = loadmat('data/cardio.mat')"
      ],
      "execution_count": 0,
      "outputs": []
    },
    {
      "cell_type": "code",
      "metadata": {
        "id": "51vlkTsEcxJr",
        "colab_type": "code",
        "outputId": "484e7e0f-c958-4f71-890c-ca6a4c5c46f0",
        "colab": {
          "base_uri": "https://localhost:8080/",
          "height": 34
        }
      },
      "source": [
        "data.keys()"
      ],
      "execution_count": 60,
      "outputs": [
        {
          "output_type": "execute_result",
          "data": {
            "text/plain": [
              "dict_keys(['__header__', '__version__', '__globals__', 'X', 'y'])"
            ]
          },
          "metadata": {
            "tags": []
          },
          "execution_count": 60
        }
      ]
    },
    {
      "cell_type": "code",
      "metadata": {
        "id": "5LTbiaxgcxNr",
        "colab_type": "code",
        "colab": {}
      },
      "source": [
        "X = data['X']\n",
        "y = data['y']"
      ],
      "execution_count": 0,
      "outputs": []
    },
    {
      "cell_type": "code",
      "metadata": {
        "id": "xQlVf9jocxX0",
        "colab_type": "code",
        "outputId": "dbeaa819-5034-4e31-d6de-32bd53034813",
        "colab": {
          "base_uri": "https://localhost:8080/",
          "height": 34
        }
      },
      "source": [
        "X.shape, y.shape"
      ],
      "execution_count": 62,
      "outputs": [
        {
          "output_type": "execute_result",
          "data": {
            "text/plain": [
              "((1831, 21), (1831, 1))"
            ]
          },
          "metadata": {
            "tags": []
          },
          "execution_count": 62
        }
      ]
    },
    {
      "cell_type": "code",
      "metadata": {
        "id": "PIL8divjj7V9",
        "colab_type": "code",
        "colab": {}
      },
      "source": [
        "y = y.squeeze()"
      ],
      "execution_count": 0,
      "outputs": []
    },
    {
      "cell_type": "markdown",
      "metadata": {
        "id": "X8eqG6xlkXAg",
        "colab_type": "text"
      },
      "source": [
        "**Scale data to have zero mean and unit standard deviation**"
      ]
    },
    {
      "cell_type": "code",
      "metadata": {
        "id": "N9kWVW8XkAF8",
        "colab_type": "code",
        "colab": {}
      },
      "source": [
        "scaler = StandardScaler()\n",
        "X = scaler.fit_transform(X)"
      ],
      "execution_count": 0,
      "outputs": []
    },
    {
      "cell_type": "markdown",
      "metadata": {
        "id": "Lghu93FYsSWb",
        "colab_type": "text"
      },
      "source": [
        "**Split into test and trainign data sets¶**"
      ]
    },
    {
      "cell_type": "code",
      "metadata": {
        "id": "GoFi08hln6i9",
        "colab_type": "code",
        "colab": {}
      },
      "source": [
        "X_train, X_test, y_train, y_test = train_test_split(X, y, test_size = 0.1)"
      ],
      "execution_count": 0,
      "outputs": []
    },
    {
      "cell_type": "code",
      "metadata": {
        "id": "RgmeuS9Vn94c",
        "colab_type": "code",
        "outputId": "57e9bbd3-7626-4eaf-ab76-98b79a66c9bc",
        "colab": {
          "base_uri": "https://localhost:8080/",
          "height": 34
        }
      },
      "source": [
        "len(X_train)"
      ],
      "execution_count": 66,
      "outputs": [
        {
          "output_type": "execute_result",
          "data": {
            "text/plain": [
              "1647"
            ]
          },
          "metadata": {
            "tags": []
          },
          "execution_count": 66
        }
      ]
    },
    {
      "cell_type": "code",
      "metadata": {
        "id": "gwrJuNMGv0bU",
        "colab_type": "code",
        "colab": {}
      },
      "source": [
        "def score(a, b):\n",
        "    \"\"\"Normalized differnece of squares between a and b.\"\"\"\n",
        "\n",
        "    loss = np.sum((a-b)**2, axis=1)\n",
        "    loss = (loss-loss.min())/(loss.max() - loss.min())\n",
        "    return loss"
      ],
      "execution_count": 0,
      "outputs": []
    },
    {
      "cell_type": "code",
      "metadata": {
        "id": "n_k4Plrov0mE",
        "colab_type": "code",
        "colab": {}
      },
      "source": [
        "def fit(n, X):\n",
        "    pca = PCA(n_components=n)\n",
        "    X_pca = pca.fit_transform(X)\n",
        "    X_pca_inverse = pca.inverse_transform(X_pca)\n",
        "    y_score = score(X, X_pca_inverse)\n",
        "    return (n, y_score)"
      ],
      "execution_count": 0,
      "outputs": []
    },
    {
      "cell_type": "code",
      "metadata": {
        "id": "lqN6Hs_Vv01t",
        "colab_type": "code",
        "colab": {}
      },
      "source": [
        "search = Parallel(n_jobs=-1)(delayed(fit)(n, X_train) for n in range(2,X.shape[1]))"
      ],
      "execution_count": 0,
      "outputs": []
    },
    {
      "cell_type": "code",
      "metadata": {
        "id": "rQdhRLJqv0_6",
        "colab_type": "code",
        "colab": {}
      },
      "source": [
        "scores =  np.array([(n, average_precision_score(y_train, y_score)) for (n, y_score) in search])"
      ],
      "execution_count": 0,
      "outputs": []
    },
    {
      "cell_type": "code",
      "metadata": {
        "id": "DYr2AFbrv1G0",
        "colab_type": "code",
        "outputId": "28a1cf2e-158e-46b0-8858-a34fe2d324a0",
        "colab": {
          "base_uri": "https://localhost:8080/",
          "height": 34
        }
      },
      "source": [
        "best = max(scores, key=lambda x: x[1])\n",
        "best"
      ],
      "execution_count": 71,
      "outputs": [
        {
          "output_type": "execute_result",
          "data": {
            "text/plain": [
              "array([2.        , 0.43997947])"
            ]
          },
          "metadata": {
            "tags": []
          },
          "execution_count": 71
        }
      ]
    },
    {
      "cell_type": "code",
      "metadata": {
        "id": "SXGD01A-v1Mc",
        "colab_type": "code",
        "outputId": "f23e1add-b3ee-4fd1-e142-d18caf65317d",
        "colab": {
          "base_uri": "https://localhost:8080/",
          "height": 276
        }
      },
      "source": [
        "plt.scatter(scores[:, 0], scores[:, 1])\n",
        "pass"
      ],
      "execution_count": 72,
      "outputs": [
        {
          "output_type": "display_data",
          "data": {
            "image/png": "[encoded data removed]",
            "text/plain": [
              "<Figure size 432x288 with 1 Axes>"
            ]
          },
          "metadata": {
            "tags": []
          }
        }
      ]
    },
    {
      "cell_type": "code",
      "metadata": {
        "id": "snKsYhgwv1ow",
        "colab_type": "code",
        "colab": {}
      },
      "source": [
        "n = int(best[0])\n",
        "n, y_score = fit(n, X_test)"
      ],
      "execution_count": 0,
      "outputs": []
    },
    {
      "cell_type": "code",
      "metadata": {
        "id": "o5DLTfCow87W",
        "colab_type": "code",
        "colab": {
          "base_uri": "https://localhost:8080/",
          "height": 34
        },
        "outputId": "3fde4600-05a3-4da9-e5d8-5ba8be226eca"
      },
      "source": [
        "average_precision_score(y_test, y_score)"
      ],
      "execution_count": 74,
      "outputs": [
        {
          "output_type": "execute_result",
          "data": {
            "text/plain": [
              "0.6526929839638869"
            ]
          },
          "metadata": {
            "tags": []
          },
          "execution_count": 74
        }
      ]
    },
    {
      "cell_type": "code",
      "metadata": {
        "id": "jF0gDgWHw9HI",
        "colab_type": "code",
        "colab": {}
      },
      "source": [
        "df = pd.DataFrame(dict(score=y_score, y=y_test))"
      ],
      "execution_count": 0,
      "outputs": []
    },
    {
      "cell_type": "code",
      "metadata": {
        "id": "IH0OtIrxw9TR",
        "colab_type": "code",
        "colab": {
          "base_uri": "https://localhost:8080/",
          "height": 276
        },
        "outputId": "9a561269-bc3b-4800-f34d-46eb8ecfbf79"
      },
      "source": [
        "g = sns.swarmplot(data=df, x='y', y='score')\n",
        "g.set_xticklabels(['Inlier', 'Outliner'])\n",
        "g.set_xlabel('')\n",
        "pass"
      ],
      "execution_count": 76,
      "outputs": [
        {
          "output_type": "display_data",
          "data": {
            "image/png": "[encoded data removed]",
            "text/plain": [
              "<Figure size 432x288 with 1 Axes>"
            ]
          },
          "metadata": {
            "tags": []
          }
        }
      ]
    },
    {
      "cell_type": "code",
      "metadata": {
        "id": "YvA2-ZB8w9ag",
        "colab_type": "code",
        "colab": {}
      },
      "source": [
        ""
      ],
      "execution_count": 0,
      "outputs": []
    },
    {
      "cell_type": "markdown",
      "metadata": {
        "id": "WyakapGJsCTd",
        "colab_type": "text"
      },
      "source": [
        "# **Visualizing data**"
      ]
    },
    {
      "cell_type": "code",
      "metadata": {
        "id": "V7PZtuK9sATd",
        "colab_type": "code",
        "colab": {}
      },
      "source": [
        "pca = PCA(n_components=2)\n",
        "X_pca = pca.fit_transform(X_train)"
      ],
      "execution_count": 0,
      "outputs": []
    },
    {
      "cell_type": "code",
      "metadata": {
        "id": "zaoLBEe1sJAQ",
        "colab_type": "code",
        "outputId": "ec4c5da5-101b-4e43-e973-bb1a59891d14",
        "colab": {
          "base_uri": "https://localhost:8080/",
          "height": 293
        }
      },
      "source": [
        "plt.plot(X_pca[y_train == 0,0],X_pca[y_train==0,1],'b^')\n",
        "plt.plot(X_pca[y_train == 1,0],X_pca[y_train==1,1],'go')"
      ],
      "execution_count": 78,
      "outputs": [
        {
          "output_type": "execute_result",
          "data": {
            "text/plain": [
              "[<matplotlib.lines.Line2D at 0x7f64132cee80>]"
            ]
          },
          "metadata": {
            "tags": []
          },
          "execution_count": 78
        },
        {
          "output_type": "display_data",
          "data": {
            "image/png": "[encoded data removed]",
            "text/plain": [
              "<Figure size 432x288 with 1 Axes>"
            ]
          },
          "metadata": {
            "tags": []
          }
        }
      ]
    },
    {
      "cell_type": "markdown",
      "metadata": {
        "id": "8banj844sixp",
        "colab_type": "text"
      },
      "source": [
        "# **Gaussian Distribution**"
      ]
    },
    {
      "cell_type": "code",
      "metadata": {
        "id": "ZjhBHFkwzeQE",
        "colab_type": "code",
        "colab": {}
      },
      "source": [
        "data = loadmat('data/cardio.mat')"
      ],
      "execution_count": 0,
      "outputs": []
    },
    {
      "cell_type": "code",
      "metadata": {
        "id": "AerAV3Ldzgv6",
        "colab_type": "code",
        "colab": {}
      },
      "source": [
        "X = data['X']\n",
        "y = data['y']"
      ],
      "execution_count": 0,
      "outputs": []
    },
    {
      "cell_type": "code",
      "metadata": {
        "id": "eUT70wxlzhLl",
        "colab_type": "code",
        "colab": {}
      },
      "source": [
        "scaler = StandardScaler()"
      ],
      "execution_count": 0,
      "outputs": []
    },
    {
      "cell_type": "code",
      "metadata": {
        "id": "E1n-aY08zhQR",
        "colab_type": "code",
        "colab": {}
      },
      "source": [
        "X = scaler.fit_transform(X)"
      ],
      "execution_count": 0,
      "outputs": []
    },
    {
      "cell_type": "code",
      "metadata": {
        "id": "WyY2QFjNzhTx",
        "colab_type": "code",
        "colab": {}
      },
      "source": [
        "X_train, X_test, y_train, y_test = train_test_split(X, y, test_size = 0.1)"
      ],
      "execution_count": 0,
      "outputs": []
    },
    {
      "cell_type": "code",
      "metadata": {
        "id": "PuGmXFCHsnQj",
        "colab_type": "code",
        "colab": {}
      },
      "source": [
        "def estimateGaussian(X):\n",
        "    mu = np.sum(X,axis = 0)/X.shape[0]\n",
        "    sigma2 = np.sum((X-mu)**2,axis = 0)/X.shape[0] \n",
        "    return mu,sigma2\n",
        "def multivariateGaussian(X,mu,sigma2):\n",
        "    sigma2 = np.diag(sigma2)\n",
        "    k = len(mu)\n",
        "    p = (2*pi)**(-k/2)*np.linalg.det(sigma2)**(-0.5)*np.exp(-0.5*((((X-mu))@np.linalg.inv(sigma2))@(X-mu).T))\n",
        "    return np.diag(p)\n",
        "def selectThresholds(y,p):\n",
        "    bestEpsilon = 0\n",
        "    bestF1 = 0\n",
        "    f1_score = 0\n",
        "    stepsize = (max(p)-min(p))/10000\n",
        "    for i in np.arange(min(p),max(p),stepsize):\n",
        "        prediction = (p < i).astype(int)\n",
        "        prediction = prediction.reshape(prediction.shape[0],1)\n",
        "        fp = np.sum((prediction == 1) * (y == 0))\n",
        "\n",
        "        fn = np.sum((prediction == 0) * (y == 1))\n",
        "        tp = np.sum((prediction == 1) * (y == 1))\n",
        "\n",
        "        prec = tp / (tp + fp)\n",
        "        rec = tp / (tp + fn)\n",
        "        \n",
        "        f1_score = 2 * prec * rec / (prec + rec)\n",
        "        if f1_score > bestF1:\n",
        "            bestF1 = f1_score\n",
        "            bestEpsilon = i\n",
        "    return bestEpsilon,bestF1"
      ],
      "execution_count": 0,
      "outputs": []
    },
    {
      "cell_type": "code",
      "metadata": {
        "id": "sbZJ-bZLs0cZ",
        "colab_type": "code",
        "colab": {}
      },
      "source": [
        "X_normally = X_train[np.where(y_train == 0)[0]]\n",
        "y_normally = y_train[np.where(y_train == 0)[0]]\n",
        "X_anormally = X_train[np.where(y_train == 1)[0]]\n",
        "y_anormally = y_train[np.where(y_train == 1)[0]]"
      ],
      "execution_count": 0,
      "outputs": []
    },
    {
      "cell_type": "code",
      "metadata": {
        "id": "2yfw0YoZtpsX",
        "colab_type": "code",
        "colab": {}
      },
      "source": [
        "mu,sigma2 = estimateGaussian(X_train)"
      ],
      "execution_count": 0,
      "outputs": []
    },
    {
      "cell_type": "code",
      "metadata": {
        "id": "jkLVY9jgt2l4",
        "colab_type": "code",
        "colab": {}
      },
      "source": [
        "p = multivariateGaussian(X_train,mu,sigma2)"
      ],
      "execution_count": 0,
      "outputs": []
    },
    {
      "cell_type": "code",
      "metadata": {
        "id": "sCDZlekdt5H9",
        "colab_type": "code",
        "outputId": "9572b14a-eb9b-4a72-8205-3101eac85303",
        "colab": {
          "base_uri": "https://localhost:8080/",
          "height": 71
        }
      },
      "source": [
        "epsilon,F1= selectThresholds(y_train,p)\n",
        "epsilon,F1"
      ],
      "execution_count": 88,
      "outputs": [
        {
          "output_type": "stream",
          "text": [
            "/usr/local/lib/python3.6/dist-packages/ipykernel_launcher.py:23: RuntimeWarning: invalid value encountered in long_scalars\n"
          ],
          "name": "stderr"
        },
        {
          "output_type": "execute_result",
          "data": {
            "text/plain": [
              "(8.177831951996897e-14, 0.534453781512605)"
            ]
          },
          "metadata": {
            "tags": []
          },
          "execution_count": 88
        }
      ]
    },
    {
      "cell_type": "code",
      "metadata": {
        "id": "9cAgTildu-yG",
        "colab_type": "code",
        "colab": {}
      },
      "source": [
        "p_test = multivariateGaussian(X_test,mu,sigma2)"
      ],
      "execution_count": 0,
      "outputs": []
    },
    {
      "cell_type": "code",
      "metadata": {
        "id": "5-qVgvNYvAqT",
        "colab_type": "code",
        "outputId": "723c9356-a8d3-4337-ecd0-cf9b61b9b4b9",
        "colab": {
          "base_uri": "https://localhost:8080/",
          "height": 374
        }
      },
      "source": [
        "pre = p_test < epsilon\n",
        "pre"
      ],
      "execution_count": 90,
      "outputs": [
        {
          "output_type": "execute_result",
          "data": {
            "text/plain": [
              "array([False, False,  True, False, False, False, False, False, False,\n",
              "       False, False, False, False, False, False, False, False, False,\n",
              "       False,  True,  True, False, False,  True, False, False, False,\n",
              "       False, False, False, False, False, False, False,  True, False,\n",
              "       False, False, False,  True, False, False, False, False, False,\n",
              "       False, False, False, False, False, False,  True, False,  True,\n",
              "       False, False,  True, False, False, False, False, False,  True,\n",
              "       False,  True,  True, False, False, False, False, False,  True,\n",
              "        True, False, False, False, False, False,  True,  True, False,\n",
              "       False, False, False, False, False,  True,  True, False, False,\n",
              "       False,  True, False, False, False,  True, False, False, False,\n",
              "       False, False, False, False,  True, False, False, False,  True,\n",
              "       False,  True, False,  True,  True, False, False, False,  True,\n",
              "        True, False,  True, False,  True,  True, False,  True,  True,\n",
              "       False,  True,  True,  True, False, False, False,  True, False,\n",
              "       False,  True,  True,  True,  True, False, False, False, False,\n",
              "       False, False, False, False, False, False, False, False, False,\n",
              "        True, False, False, False, False, False, False,  True, False,\n",
              "        True, False,  True, False,  True, False, False, False, False,\n",
              "       False, False, False, False, False, False, False,  True, False,\n",
              "       False, False,  True, False])"
            ]
          },
          "metadata": {
            "tags": []
          },
          "execution_count": 90
        }
      ]
    },
    {
      "cell_type": "code",
      "metadata": {
        "id": "f9mBYRIgvF4r",
        "colab_type": "code",
        "outputId": "9ee9b3cf-a302-4da0-9b01-9609c325458d",
        "colab": {
          "base_uri": "https://localhost:8080/",
          "height": 34
        }
      },
      "source": [
        "from sklearn.metrics import f1_score\n",
        "f1_score(pre,y_test),accuracy_score(pre,y_test)"
      ],
      "execution_count": 91,
      "outputs": [
        {
          "output_type": "execute_result",
          "data": {
            "text/plain": [
              "(0.44444444444444436, 0.8097826086956522)"
            ]
          },
          "metadata": {
            "tags": []
          },
          "execution_count": 91
        }
      ]
    },
    {
      "cell_type": "markdown",
      "metadata": {
        "id": "xiS-tTF2x50w",
        "colab_type": "text"
      },
      "source": [
        "# **Gaussian Mixer Models**"
      ]
    },
    {
      "cell_type": "code",
      "metadata": {
        "id": "bkYRZfR-x9XQ",
        "colab_type": "code",
        "colab": {}
      },
      "source": [
        "from scipy.stats import multivariate_normal"
      ],
      "execution_count": 0,
      "outputs": []
    },
    {
      "cell_type": "code",
      "metadata": {
        "id": "u3Pb-A3cx9wg",
        "colab_type": "code",
        "colab": {}
      },
      "source": [
        "class GMM:\n",
        "    def __init__(self, k, max_iter=5):\n",
        "        self.k = k\n",
        "        self.max_iter = int(max_iter)\n",
        "\n",
        "    def initialize(self, X):\n",
        "        self.shape = X.shape\n",
        "        self.n, self.m = self.shape\n",
        "\n",
        "        self.phi = np.full(shape=self.k, fill_value=1/self.k)\n",
        "        self.weights = np.full( shape=self.shape, fill_value=1/self.k)\n",
        "        \n",
        "        random_row = np.random.randint(low=0, high=self.n, size=self.k)\n",
        "        self.reg_cov = 1e-6*np.identity(self.m)\n",
        "        self.mu = [  X[row_index,:] for row_index in random_row ]\n",
        "        self.sigma = [ (np.cov(X.T)+self.reg_cov)  for _ in range(self.k) ] \n",
        "\n",
        "    def e_step(self, X):\n",
        "        # E-Step: update weights and phi holding mu and sigma constant\n",
        "        self.weights = self.predict_proba(X)\n",
        "        self.phi = self.weights.mean(axis=0)\n",
        "    \n",
        "    def m_step(self, X):\n",
        "        # M-Step: update mu and sigma holding phi and weights constant\n",
        "        for i in range(self.k):\n",
        "            weight = self.weights[:, [i]]\n",
        "            total_weight = weight.sum()\n",
        "            self.mu[i] = (X * weight).sum(axis=0) / total_weight\n",
        "            self.sigma[i] = np.cov(X.T, \n",
        "                aweights=(weight/total_weight).flatten(), \n",
        "                bias=True) + self.reg_cov\n",
        "\n",
        "    def fit(self, X):\n",
        "        self.initialize(X)\n",
        "        \n",
        "        for iteration in range(self.max_iter):\n",
        "            self.e_step(X)\n",
        "            self.m_step(X)\n",
        "            \n",
        "    def predict_proba(self, X):\n",
        "        likelihood = np.zeros( (self.n, self.k) )\n",
        "        for i in range(self.k):\n",
        "            distribution = multivariate_normal(\n",
        "                mean=self.mu[i], \n",
        "                cov=self.sigma[i])\n",
        "            likelihood[:,i] = distribution.pdf(X)\n",
        "#             likelihood[:,i] = multivariateGaussian(X,self.mu[i],self.sigma[i])\n",
        "        \n",
        "        numerator = likelihood * self.phi\n",
        "        denominator = numerator.sum(axis=1)[:, np.newaxis]\n",
        "        weights = numerator / denominator\n",
        "        return weights\n",
        "    \n",
        "    def predict(self, X):\n",
        "        weights = self.predict_proba(X)\n",
        "        return np.argmax(weights, axis=1)"
      ],
      "execution_count": 0,
      "outputs": []
    },
    {
      "cell_type": "code",
      "metadata": {
        "id": "ek62FZQ2x93L",
        "colab_type": "code",
        "colab": {}
      },
      "source": [
        "data = loadmat('data/cardio.mat')\n",
        "X = data['X']\n",
        "y = data['y']"
      ],
      "execution_count": 0,
      "outputs": []
    },
    {
      "cell_type": "code",
      "metadata": {
        "id": "qk-xn6qpx-B5",
        "colab_type": "code",
        "colab": {}
      },
      "source": [
        "scaler = StandardScaler()\n",
        "X = scaler.fit_transform(X)"
      ],
      "execution_count": 0,
      "outputs": []
    },
    {
      "cell_type": "code",
      "metadata": {
        "id": "9q-uifsqx-HC",
        "colab_type": "code",
        "colab": {}
      },
      "source": [
        "X_train, X_test, y_train, y_test = train_test_split(X, y, test_size = 0.1)"
      ],
      "execution_count": 0,
      "outputs": []
    },
    {
      "cell_type": "code",
      "metadata": {
        "id": "WWQFHHUxx98Y",
        "colab_type": "code",
        "colab": {}
      },
      "source": [
        "X_normally = X_train[np.where(y_train == 0)[0]]\n",
        "y_normally = y_train[np.where(y_train == 0)[0]]\n",
        "X_anormally = X_train[np.where(y_train == 1)[0]]\n",
        "y_anormally = y_train[np.where(y_train == 1)[0]]"
      ],
      "execution_count": 0,
      "outputs": []
    },
    {
      "cell_type": "code",
      "metadata": {
        "id": "KV_UhL3pyMuH",
        "colab_type": "code",
        "colab": {}
      },
      "source": [
        "gmm = GMM(k=1, max_iter=10)\n",
        "gmm.fit(X_train)\n",
        "pre = gmm.predict(X_train)"
      ],
      "execution_count": 0,
      "outputs": []
    },
    {
      "cell_type": "markdown",
      "metadata": {
        "id": "9DcO8RN_yM_p",
        "colab_type": "text"
      },
      "source": [
        "# **GMM with Sklearn for anomaly detection**"
      ]
    },
    {
      "cell_type": "code",
      "metadata": {
        "id": "_uz5YbfGyNXm",
        "colab_type": "code",
        "colab": {}
      },
      "source": [
        "data = loadmat('data/cardio.mat')\n",
        "X = data['X']\n",
        "y = data['y']"
      ],
      "execution_count": 0,
      "outputs": []
    },
    {
      "cell_type": "code",
      "metadata": {
        "id": "zWIXXDEIyNUX",
        "colab_type": "code",
        "colab": {}
      },
      "source": [
        "scaler = StandardScaler()\n",
        "X = scaler.fit_transform(X)"
      ],
      "execution_count": 0,
      "outputs": []
    },
    {
      "cell_type": "code",
      "metadata": {
        "id": "EXxy2Gbv05c7",
        "colab_type": "code",
        "colab": {}
      },
      "source": [
        "X_train, X_test, y_train, y_test = train_test_split(X, y, test_size = 0.1)"
      ],
      "execution_count": 0,
      "outputs": []
    },
    {
      "cell_type": "code",
      "metadata": {
        "id": "T3nuiLIX05_z",
        "colab_type": "code",
        "colab": {}
      },
      "source": [
        "X_normally = X_train[np.where(y_train == 0)[0]]\n",
        "y_normally = y_train[np.where(y_train == 0)[0]]\n",
        "X_anormally = X_train[np.where(y_train == 1)[0]]\n",
        "y_anormally = y_train[np.where(y_train == 1)[0]]"
      ],
      "execution_count": 0,
      "outputs": []
    },
    {
      "cell_type": "code",
      "metadata": {
        "id": "NCsHrRph08oN",
        "colab_type": "code",
        "colab": {}
      },
      "source": [
        "from sklearn.mixture import GaussianMixture"
      ],
      "execution_count": 0,
      "outputs": []
    },
    {
      "cell_type": "code",
      "metadata": {
        "id": "zAMyplnV0-qy",
        "colab_type": "code",
        "colab": {}
      },
      "source": [
        "gmm = GaussianMixture(n_components=1)"
      ],
      "execution_count": 0,
      "outputs": []
    },
    {
      "cell_type": "code",
      "metadata": {
        "id": "U0F8aXFn0_6b",
        "colab_type": "code",
        "colab": {
          "base_uri": "https://localhost:8080/",
          "height": 85
        },
        "outputId": "3a2d5a06-78b9-4e9d-88c6-c4829a71de31"
      },
      "source": [
        "gmm.fit(X_normally)"
      ],
      "execution_count": 105,
      "outputs": [
        {
          "output_type": "execute_result",
          "data": {
            "text/plain": [
              "GaussianMixture(covariance_type='full', init_params='kmeans', max_iter=100,\n",
              "                means_init=None, n_components=1, n_init=1, precisions_init=None,\n",
              "                random_state=None, reg_covar=1e-06, tol=0.001, verbose=0,\n",
              "                verbose_interval=10, warm_start=False, weights_init=None)"
            ]
          },
          "metadata": {
            "tags": []
          },
          "execution_count": 105
        }
      ]
    },
    {
      "cell_type": "code",
      "metadata": {
        "id": "4RM76iO-1AdO",
        "colab_type": "code",
        "colab": {}
      },
      "source": [
        "score = gmm.score_samples(X_train)"
      ],
      "execution_count": 0,
      "outputs": []
    },
    {
      "cell_type": "code",
      "metadata": {
        "id": "TyPGHJnQ0_4-",
        "colab_type": "code",
        "colab": {
          "base_uri": "https://localhost:8080/",
          "height": 293
        },
        "outputId": "2acd4723-c562-4d29-c6ab-344dacfaf073"
      },
      "source": [
        "plt.plot(score)"
      ],
      "execution_count": 107,
      "outputs": [
        {
          "output_type": "execute_result",
          "data": {
            "text/plain": [
              "[<matplotlib.lines.Line2D at 0x7f64131ef160>]"
            ]
          },
          "metadata": {
            "tags": []
          },
          "execution_count": 107
        },
        {
          "output_type": "display_data",
          "data": {
            "image/png": "[encoded data removed]",
            "text/plain": [
              "<Figure size 432x288 with 1 Axes>"
            ]
          },
          "metadata": {
            "tags": []
          }
        }
      ]
    },
    {
      "cell_type": "code",
      "metadata": {
        "id": "q1utCJns1Fjb",
        "colab_type": "code",
        "colab": {
          "base_uri": "https://localhost:8080/",
          "height": 293
        },
        "outputId": "3fa4d086-3ad8-4d6b-b294-073a59862d57"
      },
      "source": [
        "anomaly_score = score[np.where(y_train == 1)[0]]\n",
        "plt.plot(anomaly_score)"
      ],
      "execution_count": 108,
      "outputs": [
        {
          "output_type": "execute_result",
          "data": {
            "text/plain": [
              "[<matplotlib.lines.Line2D at 0x7f64131be358>]"
            ]
          },
          "metadata": {
            "tags": []
          },
          "execution_count": 108
        },
        {
          "output_type": "display_data",
          "data": {
            "image/png": "[encoded data removed]",
            "text/plain": [
              "<Figure size 432x288 with 1 Axes>"
            ]
          },
          "metadata": {
            "tags": []
          }
        }
      ]
    },
    {
      "cell_type": "code",
      "metadata": {
        "id": "KaGxsy4Y1U8U",
        "colab_type": "code",
        "colab": {
          "base_uri": "https://localhost:8080/",
          "height": 293
        },
        "outputId": "705b5124-d733-4dbd-8d7c-8ac5ccc8d3be"
      },
      "source": [
        "nomaly_score = score[np.where(y_train == 0)[0]]\n",
        "plt.plot(nomaly_score)"
      ],
      "execution_count": 109,
      "outputs": [
        {
          "output_type": "execute_result",
          "data": {
            "text/plain": [
              "[<matplotlib.lines.Line2D at 0x7f641318e240>]"
            ]
          },
          "metadata": {
            "tags": []
          },
          "execution_count": 109
        },
        {
          "output_type": "display_data",
          "data": {
            "image/png": "[encoded data removed]",
            "text/plain": [
              "<Figure size 432x288 with 1 Axes>"
            ]
          },
          "metadata": {
            "tags": []
          }
        }
      ]
    },
    {
      "cell_type": "code",
      "metadata": {
        "id": "hcnrqyf-1Xuh",
        "colab_type": "code",
        "colab": {
          "base_uri": "https://localhost:8080/",
          "height": 71
        },
        "outputId": "4393ee2d-96e3-466e-854c-f7573e6a111b"
      },
      "source": [
        "epsilon,F1= selectThresholds(y_train,score)\n",
        "epsilon,F1"
      ],
      "execution_count": 110,
      "outputs": [
        {
          "output_type": "stream",
          "text": [
            "/usr/local/lib/python3.6/dist-packages/ipykernel_launcher.py:23: RuntimeWarning: invalid value encountered in long_scalars\n"
          ],
          "name": "stderr"
        },
        {
          "output_type": "execute_result",
          "data": {
            "text/plain": [
              "(-26.127970275301777, 0.6989247311827957)"
            ]
          },
          "metadata": {
            "tags": []
          },
          "execution_count": 110
        }
      ]
    },
    {
      "cell_type": "code",
      "metadata": {
        "id": "4Ipn1EcX1znX",
        "colab_type": "code",
        "colab": {}
      },
      "source": [
        "test_score = gmm.score_samples(X_test)\n",
        "pre = (test_score < epsilon).astype(int)"
      ],
      "execution_count": 0,
      "outputs": []
    },
    {
      "cell_type": "code",
      "metadata": {
        "id": "QYDEEcTM11GA",
        "colab_type": "code",
        "colab": {
          "base_uri": "https://localhost:8080/",
          "height": 34
        },
        "outputId": "eed465ba-0a0f-402d-86c6-9c2579b114f0"
      },
      "source": [
        "f1_score(pre,y_test)"
      ],
      "execution_count": 112,
      "outputs": [
        {
          "output_type": "execute_result",
          "data": {
            "text/plain": [
              "0.6666666666666666"
            ]
          },
          "metadata": {
            "tags": []
          },
          "execution_count": 112
        }
      ]
    },
    {
      "cell_type": "code",
      "metadata": {
        "id": "IrymX_kk11E1",
        "colab_type": "code",
        "colab": {
          "base_uri": "https://localhost:8080/",
          "height": 34
        },
        "outputId": "e3eeb9da-77ca-4d93-f61e-d40f9d92ceb2"
      },
      "source": [
        "accuracy_score(pre,y_test)"
      ],
      "execution_count": 113,
      "outputs": [
        {
          "output_type": "execute_result",
          "data": {
            "text/plain": [
              "0.9293478260869565"
            ]
          },
          "metadata": {
            "tags": []
          },
          "execution_count": 113
        }
      ]
    }
  ]
}